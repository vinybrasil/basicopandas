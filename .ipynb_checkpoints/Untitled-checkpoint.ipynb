{
 "cells": [
  {
   "cell_type": "code",
   "execution_count": null,
   "metadata": {},
   "outputs": [],
   "source": [
    "#source: https://medium.com/open-machine-learning-course/open-machine-learning-course-topic-1-exploratory-data-analysis-with-pandas-de57880f1a68\n",
    "import pandas as pd\n",
    "import numpy as np\n",
    "import matplotlib.pyplot as plt\n",
    "import seaborn as sns\n",
    "\n",
    "df = pd.read_csv('./data/telecom_churn.csv')\n",
    "\n",
    "print(df.head()) #abre as 5 primeiras linhas\n",
    "print(df.shape) #3333 linhas e 20 colunas\n",
    "print(df.columns) #os nomes das colunas\n",
    "print(df.info()) #1 é bool, 8 são float, 8 sao inteiros e 3 sao objetos\n",
    "#astype muda o tipo da coluna: df['Churn'] = df['Churn'].astype('int64'), mudando de false para 0 e true para 1\n",
    "df['Churn'] = df['Churn'].astype('int64')\n",
    "print(df.describe()) #faz o calculo da media nas colunas e calcula o basico das outras\n",
    "print(df[\"Churn\"].mean()) #pode-se pegar o valor por coluna, por exemplo\n",
    "print(df.describe(include=['object', 'bool']))\n",
    "print(df['Churn'].value_counts()) #conta eles\n",
    "print(df['Churn'].value_counts(normalize=True)) #proporção\n",
    "#descendente: df.sort_values(by=['Churn', 'Total day charge'], ascending=[True, False]).head()\n",
    "\n",
    "#pegar a media de onde os churn são = 1, onde se constrói temporariamente um novo df só com essas informações\n",
    "print(df[df['Churn'] == 1].mean())\n",
    "#ou só um valor dessa df\n",
    "print(df[df['Churn'] == 1]['Total day minutes'].mean())\n",
    "print(df[(df['Churn'] == 0) & (df['International plan'] == 'No')]['Total intl minutes'].max())\n",
    "#loc acha por nome e iloc acha por index\n",
    "print(df.loc[0:5, 'State':'Area code'])\n",
    "print(df.iloc[0:5, 0:3]) #o max não é pego?\n",
    "#aplicar uma funcao em tudo\n",
    "print(df.apply(np.max))\n",
    "#selecionar os estados cujo nome começa com W:\n",
    "print(df[df['State'].apply(lambda state: state[0] == 'W')].head())\n",
    "#trocar valores usando um dicionario{old value: new value}:\n",
    "d = { 'No' : False,\n",
    "      'Yes': True}\n",
    "df['International plan'] = df['International plan'].map(d)\n",
    "print(df.head())\n",
    "#da pra usar o map ou o replace\n",
    "df = df.replace({'Voice mail plan': d})\n",
    "print(df.head())\n",
    "#grouping data: df.groupby(by=grouping_columns)[columns_to_show].function()\n",
    "colunas_para_mostrar = ['Total day minutes', 'Total eve minutes', 'Total night minutes']\n",
    "print(df.groupby(['Churn'])[colunas_para_mostrar].describe(percentiles=[]))\n",
    "#da pra passar uma lista de funções com o agg:\n",
    "print(df.groupby(['Churn'])[colunas_para_mostrar].agg([np.mean, np.std, np.min, np.max]))\n",
    "#crosstab cria uma tabela de contingenciamento\n",
    "print(pd.crosstab(df['Churn'], df['International plan']))\n",
    "print(pd.crosstab(df['Churn'], df['Voice mail plan'], normalize=True))\n",
    "#pivot tables do excel com os parametros: values, index e aggfunc(sum, mean, maximum, etc)\n",
    "print(df.pivot_table(['Total day calls', 'Total eve calls', 'Total night calls'], ['Area code'], aggfunc='mean'))\n",
    "#adicinando novas colunas: (nesse caso, uma nova que calcula o total de chamadas)\n",
    "total_calls = df['Total day calls'] + df['Total eve calls'] + df['Total night calls'] + df['Total intl calls']\n",
    "df.insert(loc=len(df.columns), column='Total calls', value=total_calls)\n",
    "print(df.head())\n",
    "#deletar: use 1 para a coluna e 0 para a linha. inplace=True mexe \n",
    "#no df originarl e inplace=false faz um df novo\n",
    "#dropando colunas\n",
    "df.drop(['Total calls'], axis=1, inplace=True) #da pra df.drop(['Total charge', 'Total calls'])\n",
    "#dropando linhas, o index fica zuado\n",
    "print(df.drop([1,2]).head())\n",
    "\n",
    "#plotando com o seaborn\n",
    "print(pd.crosstab(df['Churn'], df['International plan'], margins=True))"
   ]
  },
  {
   "cell_type": "code",
   "execution_count": null,
   "metadata": {},
   "outputs": [],
   "source": []
  },
  {
   "cell_type": "code",
   "execution_count": null,
   "metadata": {},
   "outputs": [],
   "source": []
  },
  {
   "cell_type": "code",
   "execution_count": null,
   "metadata": {},
   "outputs": [],
   "source": []
  }
 ],
 "metadata": {
  "kernelspec": {
   "display_name": "Python 3",
   "language": "python",
   "name": "python3"
  },
  "language_info": {
   "codemirror_mode": {
    "name": "ipython",
    "version": 3
   },
   "file_extension": ".py",
   "mimetype": "text/x-python",
   "name": "python",
   "nbconvert_exporter": "python",
   "pygments_lexer": "ipython3",
   "version": "3.7.4"
  }
 },
 "nbformat": 4,
 "nbformat_minor": 4
}
